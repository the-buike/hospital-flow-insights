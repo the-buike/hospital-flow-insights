{
 "cells": [
  {
   "cell_type": "markdown",
   "id": "bfd7a649",
   "metadata": {},
   "source": [
    "*** Data Cleaning Process Documentation ***\n",
    "Introduction\n",
    "In this project, I worked on cleaning up a healthcare dataset. The main goal was to get rid of duplicates, fix inconsistencies, ensure the data was HIPAA-compliant, and make it ready for analysis. Here’s how I went about it.\n",
    "\n",
    "1. Removing Duplicates\n",
    "I started by looking for duplicate rows in the dataset. In healthcare data, it’s common for patients to have multiple appointments, but sometimes the same appointment gets recorded multiple times, or a single patient record is split across rows.\n",
    "\n",
    "To fix this, I checked for any duplicates and resolved inconsistencies, especially where the same patient had different values for things like age or doctor. In those cases, I kept the most frequent value or the first one, depending on what made sense.\n",
    "\n",
    "2. Handling Inconsistencies in Categorical Data\n",
    "Next, I took a look at some of the categorical data. If the data’s inconsistent, it’ll mess up everything later on. For example, gender might be entered as \"male\" in one row and \"Male\" in another, so I standardized everything to make sure the entries were consistent across the dataset.\n",
    "\n",
    "I also checked a few other columns like admission_type and test_results to ensure there were no typos or variations in how the data was recorded.\n",
    "\n",
    "3. Anonymizing Patient Names (HIPAA Compliance)\n",
    "HIPAA is a big deal in healthcare, and patient privacy is crucial. Since the dataset contains sensitive information, I anonymized the patient names to comply with HIPAA regulations. Instead of storing patient names, I hashed them using the SHA-256 algorithm, which makes it impossible to recover the original name, but still keeps the data usable.\n",
    "\n",
    "4. Generating Unique Identifiers\n",
    "To make the dataset more manageable, I created unique IDs for both patients and doctors. The patient_id is now consistent across all records for the same patient, which is useful for any analysis that looks at multiple appointments for a patient. Similarly, each doctor now has a unique doctor_id.\n",
    "\n",
    "5. Handling Length of Stay (LOS)\n",
    "Length of Stay (LOS) is an important metric, so I decided to calculate it in SQL. By using the DATEDIFF() function in SQL, I calculated how long each patient stayed in the hospital, which can be used for various analyses later on.\n",
    "\n",
    "6. Dealing with Strange Data\n",
    "I also checked for any unreasonable values—like negative ages or billing amounts that were way off. If anything seemed out of place, I corrected it or flagged it for further review.\n",
    "\n",
    "7. Resetting the Index\n",
    "The dataset originally had an index starting from 0, but I reset it so that it starts from 1. This gives the data a cleaner look, especially when it’s being used for reports or analysis.\n",
    "\n",
    "8. Dropping Unnecessary Columns\n",
    "After anonymizing the patient names and generating unique IDs, I realized that the name column wasn’t needed anymore. Since the data was already anonymized, I dropped the name column to make the dataset cleaner and more compliant with HIPAA.\n",
    "\n",
    "Conclusion\n",
    "At the end of the day, the dataset is in much better shape:\n",
    "\n",
    "No duplicates, making the data more accurate.\n",
    "\n",
    "Consistent values across columns, ensuring reliable analysis.\n",
    "\n",
    "Patient names anonymized for HIPAA compliance.\n",
    "\n",
    "Unique IDs for patients and doctors, which simplifies analysis.\n",
    "\n",
    "LOS calculated in SQL for more efficient querying.\n",
    "\n",
    "No weird data that could throw off results.\n",
    "\n",
    "Now, the data is clean, compliant, and ready to be analyzed or used for further processing."
   ]
  },
  {
   "cell_type": "markdown",
   "id": "d3c0cc91",
   "metadata": {},
   "source": []
  }
 ],
 "metadata": {
  "language_info": {
   "name": "python"
  }
 },
 "nbformat": 4,
 "nbformat_minor": 5
}
